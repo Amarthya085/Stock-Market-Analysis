{
 "cells": [
  {
   "cell_type": "code",
   "execution_count": 1,
   "metadata": {
    "id": "XGXh32Yl3E5s"
   },
   "outputs": [
    {
     "ename": "ModuleNotFoundError",
     "evalue": "No module named 'sklearn'",
     "output_type": "error",
     "traceback": [
      "\u001b[1;31m---------------------------------------------------------------------------\u001b[0m",
      "\u001b[1;31mModuleNotFoundError\u001b[0m                       Traceback (most recent call last)",
      "Cell \u001b[1;32mIn[1], line 14\u001b[0m\n\u001b[0;32m     12\u001b[0m \u001b[39mfrom\u001b[39;00m \u001b[39mkeras\u001b[39;00m \u001b[39mimport\u001b[39;00m optimizers\n\u001b[0;32m     13\u001b[0m \u001b[39mfrom\u001b[39;00m \u001b[39mkeras\u001b[39;00m\u001b[39m.\u001b[39;00m\u001b[39mcallbacks\u001b[39;00m \u001b[39mimport\u001b[39;00m EarlyStopping\n\u001b[1;32m---> 14\u001b[0m \u001b[39mfrom\u001b[39;00m \u001b[39msklearn\u001b[39;00m\u001b[39m.\u001b[39;00m\u001b[39mpreprocessing\u001b[39;00m \u001b[39mimport\u001b[39;00m MinMaxScaler\n\u001b[0;32m     15\u001b[0m \u001b[39mfrom\u001b[39;00m \u001b[39msklearn\u001b[39;00m\u001b[39m.\u001b[39;00m\u001b[39mmetrics\u001b[39;00m \u001b[39mimport\u001b[39;00m mean_squared_error, r2_score\n\u001b[0;32m     16\u001b[0m \u001b[39mfrom\u001b[39;00m \u001b[39mmath\u001b[39;00m \u001b[39mimport\u001b[39;00m sqrt\n",
      "\u001b[1;31mModuleNotFoundError\u001b[0m: No module named 'sklearn'"
     ]
    }
   ],
   "source": [
    "# Importing dependencies\n",
    "\n",
    "import numpy as np\n",
    "np.random.seed(1)\n",
    "import tensorflow as tf\n",
    "tf.random.set_seed(2)\n",
    "import pandas as pd\n",
    "import matplotlib.pyplot as plt\n",
    "from keras.models import Sequential, load_model\n",
    "from keras.layers.core import Dense\n",
    "from keras.layers import LSTM\n",
    "from keras import optimizers\n",
    "from keras.callbacks import EarlyStopping\n",
    "from sklearn.preprocessing import MinMaxScaler\n",
    "from sklearn.metrics import mean_squared_error, r2_score\n",
    "from math import sqrt\n",
    "import datetime as dt\n",
    "import time\n",
    "plt.style.use('ggplot')"
   ]
  },
  {
   "cell_type": "markdown",
   "metadata": {
    "id": "K7zqjmx2w5jT"
   },
   "source": [
    "### Data Preprocessing"
   ]
  },
  {
   "cell_type": "code",
   "execution_count": 2,
   "metadata": {
    "colab": {
     "base_uri": "https://localhost:8080/",
     "height": 237
    },
    "id": "r5O0a39R9Z_Z",
    "outputId": "88bdcf3c-1f1b-4723-d993-771d841c1eb1"
   },
   "outputs": [
    {
     "data": {
      "text/html": [
       "<div>\n",
       "<style scoped>\n",
       "    .dataframe tbody tr th:only-of-type {\n",
       "        vertical-align: middle;\n",
       "    }\n",
       "\n",
       "    .dataframe tbody tr th {\n",
       "        vertical-align: top;\n",
       "    }\n",
       "\n",
       "    .dataframe thead th {\n",
       "        text-align: right;\n",
       "    }\n",
       "</style>\n",
       "<table border=\"1\" class=\"dataframe\">\n",
       "  <thead>\n",
       "    <tr style=\"text-align: right;\">\n",
       "      <th></th>\n",
       "      <th>Open</th>\n",
       "      <th>High</th>\n",
       "      <th>Low</th>\n",
       "      <th>Close</th>\n",
       "      <th>Adj Close</th>\n",
       "      <th>Volume</th>\n",
       "    </tr>\n",
       "    <tr>\n",
       "      <th>Date</th>\n",
       "      <th></th>\n",
       "      <th></th>\n",
       "      <th></th>\n",
       "      <th></th>\n",
       "      <th></th>\n",
       "      <th></th>\n",
       "    </tr>\n",
       "  </thead>\n",
       "  <tbody>\n",
       "    <tr>\n",
       "      <th>2019-02-15</th>\n",
       "      <td>19.200001</td>\n",
       "      <td>19.639999</td>\n",
       "      <td>19.180000</td>\n",
       "      <td>19.590000</td>\n",
       "      <td>19.590000</td>\n",
       "      <td>146000</td>\n",
       "    </tr>\n",
       "    <tr>\n",
       "      <th>2019-02-19</th>\n",
       "      <td>19.500000</td>\n",
       "      <td>19.600000</td>\n",
       "      <td>19.100000</td>\n",
       "      <td>19.549999</td>\n",
       "      <td>19.549999</td>\n",
       "      <td>138100</td>\n",
       "    </tr>\n",
       "    <tr>\n",
       "      <th>2019-02-20</th>\n",
       "      <td>19.660000</td>\n",
       "      <td>20.059999</td>\n",
       "      <td>19.520000</td>\n",
       "      <td>19.920000</td>\n",
       "      <td>19.920000</td>\n",
       "      <td>133400</td>\n",
       "    </tr>\n",
       "    <tr>\n",
       "      <th>2019-02-21</th>\n",
       "      <td>19.740000</td>\n",
       "      <td>20.790001</td>\n",
       "      <td>19.530001</td>\n",
       "      <td>20.190001</td>\n",
       "      <td>20.190001</td>\n",
       "      <td>167000</td>\n",
       "    </tr>\n",
       "    <tr>\n",
       "      <th>2019-02-22</th>\n",
       "      <td>20.389999</td>\n",
       "      <td>21.080000</td>\n",
       "      <td>20.379999</td>\n",
       "      <td>21.000000</td>\n",
       "      <td>21.000000</td>\n",
       "      <td>434100</td>\n",
       "    </tr>\n",
       "  </tbody>\n",
       "</table>\n",
       "</div>"
      ],
      "text/plain": [
       "                 Open       High        Low      Close  Adj Close  Volume\n",
       "Date                                                                     \n",
       "2019-02-15  19.200001  19.639999  19.180000  19.590000  19.590000  146000\n",
       "2019-02-19  19.500000  19.600000  19.100000  19.549999  19.549999  138100\n",
       "2019-02-20  19.660000  20.059999  19.520000  19.920000  19.920000  133400\n",
       "2019-02-21  19.740000  20.790001  19.530001  20.190001  20.190001  167000\n",
       "2019-02-22  20.389999  21.080000  20.379999  21.000000  21.000000  434100"
      ]
     },
     "execution_count": 2,
     "metadata": {},
     "output_type": "execute_result"
    }
   ],
   "source": [
    "# Loading the dataset\n",
    "url = 'CSV.csv'\n",
    "df = pd.read_csv(url,parse_dates = True,index_col=0)\n",
    "df.tail()"
   ]
  },
  {
   "cell_type": "code",
   "execution_count": 3,
   "metadata": {
    "colab": {
     "base_uri": "https://localhost:8080/"
    },
    "id": "2H5Lkte_NgWT",
    "outputId": "f50c4ea0-8bbc-40ca-8035-d4fa3c9e6450"
   },
   "outputs": [
    {
     "data": {
      "text/plain": [
       "Open         0.999440\n",
       "High         0.999733\n",
       "Low          0.999712\n",
       "Close        1.000000\n",
       "Adj Close    0.999319\n",
       "Volume       0.237297\n",
       "Name: Close, dtype: float64"
      ]
     },
     "execution_count": 3,
     "metadata": {},
     "output_type": "execute_result"
    }
   ],
   "source": [
    "# Correlation matrix\n",
    "df.corr()['Close']"
   ]
  },
  {
   "cell_type": "code",
   "execution_count": 4,
   "metadata": {
    "colab": {
     "base_uri": "https://localhost:8080/"
    },
    "id": "1anbu_yx3bta",
    "outputId": "5f61b61c-feb3-410c-93a1-34d2f815ad6c"
   },
   "outputs": [
    {
     "name": "stdout",
     "output_type": "stream",
     "text": [
      "count    5.672000e+03\n",
      "mean     6.335628e+04\n",
      "std      8.749770e+04\n",
      "min      0.000000e+00\n",
      "25%      1.850000e+04\n",
      "50%      3.985000e+04\n",
      "75%      7.900000e+04\n",
      "max      2.073400e+06\n",
      "Name: Volume, dtype: float64\n"
     ]
    }
   ],
   "source": [
    "print(df.describe().Volume) \n",
    "df.drop(df[df['Volume']==0].index, inplace = True) #Dropping rows with volume value 0"
   ]
  },
  {
   "cell_type": "code",
   "execution_count": 5,
   "metadata": {
    "id": "FNioyc6mZUAJ"
   },
   "outputs": [],
   "source": [
    "# Setting up an early stop\n",
    "earlystop = EarlyStopping(monitor='val_loss', min_delta=0.0001, patience=80,  verbose=1, mode='min')\n",
    "callbacks_list = [earlystop]"
   ]
  },
  {
   "cell_type": "code",
   "execution_count": 6,
   "metadata": {
    "id": "zRVEzZ1FXj_p"
   },
   "outputs": [],
   "source": [
    "#Build and train the model\n",
    "def fit_model(train,val,timesteps,hl,lr,batch,epochs):\n",
    "    X_train = []\n",
    "    Y_train = []\n",
    "    X_val = []\n",
    "    Y_val = []\n",
    "  \n",
    "    # Loop for training data\n",
    "    for i in range(timesteps,train.shape[0]):\n",
    "        X_train.append(train[i-timesteps:i])\n",
    "        Y_train.append(train[i][0])\n",
    "    X_train,Y_train = np.array(X_train),np.array(Y_train)\n",
    "  \n",
    "    # Loop for val data\n",
    "    for i in range(timesteps,val.shape[0]):\n",
    "        X_val.append(val[i-timesteps:i])\n",
    "        Y_val.append(val[i][0])\n",
    "    X_val,Y_val = np.array(X_val),np.array(Y_val)\n",
    "    \n",
    "    print(X_val)\n",
    "    print(Y_val)\n",
    "    # Adding Layers to the model\n",
    "    model = Sequential()\n",
    "    model.add(LSTM(X_train.shape[2],input_shape = (X_train.shape[1],X_train.shape[2]),return_sequences = True,\n",
    "                   activation = 'relu'))\n",
    "    for i in range(len(hl)-1):        \n",
    "        model.add(LSTM(hl[i],activation = 'relu',return_sequences = True))\n",
    "    model.add(LSTM(hl[-1],activation = 'relu'))\n",
    "    model.add(Dense(1))\n",
    "    model.compile(optimizer = optimizers.Adam(lr = lr), loss = 'mean_squared_error')\n",
    "    #print(model.summary())\n",
    "  \n",
    "    # Training the data\n",
    "    history = model.fit(X_train,Y_train,epochs = epochs,batch_size = batch,validation_data = (X_val, Y_val),verbose = 0,\n",
    "                        shuffle = False, callbacks=callbacks_list)\n",
    "    model.reset_states()\n",
    "    return model, history.history['loss'], history.history['val_loss']\n"
   ]
  },
  {
   "cell_type": "code",
   "execution_count": 7,
   "metadata": {
    "id": "LpwHmJeQJqyI"
   },
   "outputs": [],
   "source": [
    "# Evaluating the model\n",
    "def evaluate_model(model,test,timesteps):\n",
    "    X_test = []\n",
    "    Y_test = []\n",
    "\n",
    "    # Loop for testing data\n",
    "    for i in range(timesteps,test.shape[0]):\n",
    "        X_test.append(test[i-timesteps:i])\n",
    "        Y_test.append(test[i][0])\n",
    "    X_test,Y_test = np.array(X_test),np.array(Y_test)\n",
    "    #print(X_test.shape,Y_test.shape)\n",
    "  \n",
    "    # Prediction Time !!!!\n",
    "    Y_hat = model.predict(X_test)\n",
    "    mse = mean_squared_error(Y_test,Y_hat)\n",
    "    rmse = sqrt(mse)\n",
    "    r = r2_score(Y_test,Y_hat)\n",
    "    return mse, rmse, r, Y_test, Y_hat\n",
    "  "
   ]
  },
  {
   "cell_type": "code",
   "execution_count": 8,
   "metadata": {
    "id": "pI0q18ajCLx6"
   },
   "outputs": [],
   "source": [
    "# Plotting the predictions\n",
    "def plot_data(Y_test,Y_hat):\n",
    "    plt.plot(Y_test,c = 'r')\n",
    "    plt.plot(Y_hat,c = 'y')\n",
    "    plt.xlabel('Day')\n",
    "    plt.ylabel('Price')\n",
    "    plt.title('Stock Prediction Graph using Multivariate-LSTM model')\n",
    "    plt.legend(['Actual','Predicted'],loc = 'lower right')\n",
    "    plt.show()"
   ]
  },
  {
   "cell_type": "markdown",
   "metadata": {
    "id": "JKEMQZ8Ow5ja"
   },
   "source": [
    "### Model Building"
   ]
  },
  {
   "cell_type": "code",
   "execution_count": 10,
   "metadata": {
    "colab": {
     "base_uri": "https://localhost:8080/"
    },
    "id": "gAvOMIyjIQO-",
    "outputId": "14cd7e1d-312a-4832-9275-a5f8cc15d45d"
   },
   "outputs": [
    {
     "name": "stdout",
     "output_type": "stream",
     "text": [
      "(5670, 3)\n",
      "                Close       High  Volume\n",
      "Date                                    \n",
      "2019-02-15  19.590000  19.639999  146000\n",
      "2019-02-19  19.549999  19.600000  138100\n",
      "2019-02-20  19.920000  20.059999  133400\n",
      "2019-02-21  20.190001  20.790001  167000\n",
      "2019-02-22  21.000000  21.080000  434100\n"
     ]
    }
   ],
   "source": [
    "# Extracting the series\n",
    "series = df[['Close','High','Volume']] # Picking the series with high correlation\n",
    "print(series.shape)\n",
    "print(series.tail())"
   ]
  },
  {
   "cell_type": "code",
   "execution_count": 11,
   "metadata": {
    "colab": {
     "base_uri": "https://localhost:8080/"
    },
    "id": "Tjso-RjNDmbs",
    "outputId": "731d5f92-4cff-4545-c99a-832be5221e6b"
   },
   "outputs": [
    {
     "name": "stdout",
     "output_type": "stream",
     "text": [
      "(2515, 3) (504, 3) (503, 3)\n"
     ]
    }
   ],
   "source": [
    "# Train Val Test Split\n",
    "train_start = dt.date(1997,1,1)\n",
    "train_end = dt.date(2006,12,31)\n",
    "train_data = series.loc[train_start:train_end]\n",
    "\n",
    "val_start = dt.date(2007,1,1)\n",
    "val_end = dt.date(2008,12,31)\n",
    "val_data = series.loc[val_start:val_end]\n",
    "\n",
    "test_start = dt.date(2009,1,1)\n",
    "test_end = dt.date(2010,12,31)\n",
    "test_data = series.loc[test_start:test_end]\n",
    "\n",
    "print(train_data.shape,val_data.shape,test_data.shape)"
   ]
  },
  {
   "cell_type": "code",
   "execution_count": 12,
   "metadata": {
    "colab": {
     "base_uri": "https://localhost:8080/"
    },
    "id": "NWXR5oL2ZnY4",
    "outputId": "3ecf1331-cd75-4e9b-ff48-685a46dc8a35"
   },
   "outputs": [
    {
     "name": "stdout",
     "output_type": "stream",
     "text": [
      "(2515, 3) (504, 3) (503, 3)\n"
     ]
    }
   ],
   "source": [
    "# Normalisation\n",
    "sc = MinMaxScaler()\n",
    "train = sc.fit_transform(train_data)\n",
    "val = sc.transform(val_data)\n",
    "test = sc.transform(test_data)\n",
    "print(train.shape,val.shape,test.shape)"
   ]
  },
  {
   "cell_type": "code",
   "execution_count": 14,
   "metadata": {
    "id": "hdWU22vuw5jb"
   },
   "outputs": [],
   "source": [
    "timesteps = 50\n",
    "hl = [40,35]\n",
    "lr = 1e-3\n",
    "batch_size = 64\n",
    "num_epochs = 250"
   ]
  },
  {
   "cell_type": "code",
   "execution_count": null,
   "metadata": {
    "id": "5sDo1k0yw5jb"
   },
   "outputs": [
    {
     "name": "stdout",
     "output_type": "stream",
     "text": [
      "[[[0.13995506 0.13557047 0.02218034]\n",
      "  [0.14031461 0.13557047 0.07371702]\n",
      "  [0.14067416 0.13557047 0.03435778]\n",
      "  ...\n",
      "  [0.23631461 0.23149888 0.12764569]\n",
      "  [0.2348764  0.23221477 0.06864308]\n",
      "  [0.23595506 0.230783   0.10075384]]\n",
      "\n",
      " [[0.14031461 0.13557047 0.07371702]\n",
      "  [0.14067416 0.13557047 0.03435778]\n",
      "  [0.14283146 0.13807606 0.02435489]\n",
      "  ...\n",
      "  [0.2348764  0.23221477 0.06864308]\n",
      "  [0.23595506 0.230783   0.10075384]\n",
      "  [0.2341573  0.23865772 0.1423601 ]]\n",
      "\n",
      " [[0.14067416 0.13557047 0.03435778]\n",
      "  [0.14283146 0.13807606 0.02435489]\n",
      "  [0.15325843 0.1495302  0.05059438]\n",
      "  ...\n",
      "  [0.23595506 0.230783   0.10075384]\n",
      "  [0.2341573  0.23865772 0.1423601 ]\n",
      "  [0.23991011 0.23758389 0.09792694]]\n",
      "\n",
      " ...\n",
      "\n",
      " [[0.05546067 0.05503356 0.00797333]\n",
      "  [0.05797753 0.05431767 0.0142795 ]\n",
      "  [0.06085393 0.05718121 0.01282981]\n",
      "  ...\n",
      "  [0.02202247 0.02353468 0.21832415]\n",
      "  [0.02741573 0.02389262 0.02768919]\n",
      "  [0.02669663 0.0246085  0.00956799]]\n",
      "\n",
      " [[0.05797753 0.05431767 0.0142795 ]\n",
      "  [0.06085393 0.05718121 0.01282981]\n",
      "  [0.06121348 0.05861298 0.01109017]\n",
      "  ...\n",
      "  [0.02741573 0.02389262 0.02768919]\n",
      "  [0.02669663 0.0246085  0.00956799]\n",
      "  [0.02417978 0.02425056 0.06008988]]\n",
      "\n",
      " [[0.06085393 0.05718121 0.01282981]\n",
      "  [0.06121348 0.05861298 0.01109017]\n",
      "  [0.06193258 0.05861298 0.01036532]\n",
      "  ...\n",
      "  [0.02669663 0.0246085  0.00956799]\n",
      "  [0.02417978 0.02425056 0.06008988]\n",
      "  [0.02346067 0.02246085 0.02986373]]]\n",
      "[0.2341573  0.23991011 0.24134831 0.25537079 0.24494382 0.24853933\n",
      " 0.25501124 0.25105618 0.24889888 0.24817978 0.24817978 0.24925843\n",
      " 0.26040449 0.2611236  0.25608989 0.25033708 0.25429213 0.25896629\n",
      " 0.25573034 0.26148315 0.2647191  0.26292135 0.2647191  0.26004494\n",
      " 0.25573034 0.25177528 0.24889888 0.25465169 0.25285393 0.25213483\n",
      " 0.25105618 0.24925843 0.24494382 0.24925843 0.24746067 0.24314607\n",
      " 0.24925843 0.25752809 0.27370787 0.27226966 0.25860674 0.24853933\n",
      " 0.23451685 0.23847191 0.23559551 0.24350562 0.24098876 0.24242697\n",
      " 0.24170787 0.23667416 0.23595506 0.23883146 0.23164045 0.24206742\n",
      " 0.24494382 0.2341573  0.24098876 0.24278652 0.2327191  0.2298427\n",
      " 0.22804494 0.2298427  0.232      0.23919101 0.24494382 0.24566292\n",
      " 0.25537079 0.24925843 0.24494382 0.24350562 0.23559551 0.24674157\n",
      " 0.24853933 0.25429213 0.26220225 0.2625618  0.2661573  0.2647191\n",
      " 0.26939326 0.25968539 0.25896629 0.26220225 0.27298876 0.27730337\n",
      " 0.27802247 0.29168539 0.28701124 0.28808989 0.296      0.29132584\n",
      " 0.28521348 0.28341573 0.28377528 0.27622472 0.27622472 0.27011236\n",
      " 0.26831461 0.2625618  0.26220225 0.26795506 0.28808989 0.2647191\n",
      " 0.24961798 0.24889888 0.24386517 0.25069663 0.25393258 0.25429213\n",
      " 0.24853933 0.25393258 0.24925843 0.25932584 0.27011236 0.26364045\n",
      " 0.25213483 0.25501124 0.24889888 0.26292135 0.26076404 0.25537079\n",
      " 0.26831461 0.26831461 0.26795506 0.2625618  0.25608989 0.25429213\n",
      " 0.26076404 0.25033708 0.25608989 0.25680899 0.25968539 0.26004494\n",
      " 0.26004494 0.25644944 0.26004494 0.2647191  0.24889888 0.2611236\n",
      " 0.26364045 0.26292135 0.26795506 0.2654382  0.26579775 0.26831461\n",
      " 0.2611236  0.27370787 0.27298876 0.28269663 0.27334831 0.27514607\n",
      " 0.28161798 0.29096629 0.30642697 0.30139326 0.31901124 0.32224719\n",
      " 0.31973034 0.31757303 0.30139326 0.30139326 0.2952809  0.30606742\n",
      " 0.30211236 0.28952809 0.2974382  0.30139326 0.30067416 0.30786517\n",
      " 0.31182022 0.31685393 0.31110112 0.31433708 0.31793258 0.3301573\n",
      " 0.32188764 0.31901124 0.32116854 0.34885393 0.34382022 0.33159551\n",
      " 0.34094382 0.33339326 0.34346067 0.33447191 0.31793258 0.31613483\n",
      " 0.30067416 0.28844944 0.2967191  0.30103371 0.29779775 0.28701124\n",
      " 0.27802247 0.28341573 0.29096629 0.28844944 0.2981573  0.28305618\n",
      " 0.27155056 0.27011236 0.27370787 0.27982022 0.28521348 0.28557303\n",
      " 0.27298876 0.28269663 0.27334831 0.26292135 0.2611236  0.27047191\n",
      " 0.27226966 0.27586517 0.27838202 0.26040449 0.24638202 0.24350562\n",
      " 0.24638202 0.24494382 0.24674157 0.24530337 0.24530337 0.24782022\n",
      " 0.25213483 0.25321348 0.23703371 0.2327191  0.22804494 0.21474157\n",
      " 0.23559551 0.22624719 0.22696629 0.22444944 0.21653933 0.21294382\n",
      " 0.21761798 0.23775281 0.22229213 0.22696629 0.22624719 0.24710112\n",
      " 0.25033708 0.24134831 0.2334382  0.23919101 0.2334382  0.2312809\n",
      " 0.22768539 0.22229213 0.22624719 0.20791011 0.21941573 0.21977528\n",
      " 0.21833708 0.22444944 0.22408989 0.22480899 0.22624719 0.23595506\n",
      " 0.22840449 0.22840449 0.23703371 0.23595506 0.24638202 0.24638202\n",
      " 0.24314607 0.24530337 0.24710112 0.24494382 0.24638202 0.24674157\n",
      " 0.24782022 0.25141573 0.26292135 0.27406742 0.27047191 0.25896629\n",
      " 0.2618427  0.27083146 0.26759551 0.27119101 0.26507865 0.27191011\n",
      " 0.26076404 0.25573034 0.25932584 0.24494382 0.24170787 0.26040449\n",
      " 0.24782022 0.25573034 0.24961798 0.22660674 0.22768539 0.24566292\n",
      " 0.2348764  0.2305618  0.21941573 0.21905618 0.21366292 0.21510112\n",
      " 0.21114607 0.21761798 0.20934831 0.21582022 0.21689888 0.20898876\n",
      " 0.20539326 0.20755056 0.2        0.18921348 0.18921348 0.18417978\n",
      " 0.18417978 0.18130337 0.18130337 0.18813483 0.18382022 0.18849438\n",
      " 0.1971236  0.19892135 0.20467416 0.20611236 0.20107865 0.19460674\n",
      " 0.19460674 0.19460674 0.19101124 0.19640449 0.19604494 0.19101124\n",
      " 0.19244944 0.19388764 0.19640449 0.18166292 0.18921348 0.18238202\n",
      " 0.19173034 0.18453933 0.17986517 0.17914607 0.18166292 0.19280899\n",
      " 0.18094382 0.19388764 0.18022472 0.18022472 0.18022472 0.18022472\n",
      " 0.17842697 0.17734831 0.17698876 0.17986517 0.17770787 0.11874157\n",
      " 0.12305618 0.11838202 0.11658427 0.12413483 0.11838202 0.11982022\n",
      " 0.11874157 0.12161798 0.12305618 0.11838202 0.12449438 0.11946067\n",
      " 0.11442697 0.11622472 0.11370787 0.10364045 0.10939326 0.1032809\n",
      " 0.09393258 0.09393258 0.09716854 0.08853933 0.08782022 0.09393258\n",
      " 0.08853933 0.08494382 0.08026966 0.07595506 0.07595506 0.07991011\n",
      " 0.08242697 0.07523596 0.07847191 0.08026966 0.09932584 0.08314607\n",
      " 0.08494382 0.0734382  0.0734382  0.06696629 0.06552809 0.06229213\n",
      " 0.04898876 0.05797753 0.07703371 0.06552809 0.05689888 0.05546067\n",
      " 0.05797753 0.06085393 0.06121348 0.06193258 0.05653933 0.05546067\n",
      " 0.04970787 0.04898876 0.04611236 0.04467416 0.0428764  0.03748315\n",
      " 0.03640449 0.04035955 0.03352809 0.02921348 0.02885393 0.03101124\n",
      " 0.02993258 0.0378427  0.03964045 0.0371236  0.05510112 0.0392809\n",
      " 0.02921348 0.03101124 0.0371236  0.03640449 0.0421573  0.04179775\n",
      " 0.03820225 0.04719101 0.0392809  0.03460674 0.02993258 0.02921348\n",
      " 0.02885393 0.03065169 0.02993258 0.03316854 0.02741573 0.02453933\n",
      " 0.02310112 0.02130337 0.02417978 0.02130337 0.02202247 0.02741573\n",
      " 0.02669663 0.02417978 0.02346067 0.02957303]\n"
     ]
    },
    {
     "name": "stderr",
     "output_type": "stream",
     "text": [
      "D:\\python_practice\\python_anaconda\\lib\\site-packages\\keras\\optimizers\\optimizer_v2\\adam.py:114: UserWarning: The `lr` argument is deprecated, use `learning_rate` instead.\n",
      "  super().__init__(name, **kwargs)\n"
     ]
    }
   ],
   "source": [
    "model,train_error,val_error = fit_model(train,val,timesteps,hl,lr,batch_size,num_epochs)"
   ]
  },
  {
   "cell_type": "code",
   "execution_count": 17,
   "metadata": {
    "id": "Iz0RjJKfw5jb",
    "outputId": "6a86358e-4e4a-4326-b8c7-248e4533137c"
   },
   "outputs": [
    {
     "name": "stdout",
     "output_type": "stream",
     "text": [
      "15/15 [==============================] - 0s 19ms/step\n",
      "MSE = 0.00015052652372608927\n",
      "RMSE = 0.012268925125131756\n",
      "R-Squared Score = 0.8378283714140846\n"
     ]
    },
    {
     "data": {
      "image/png": "[encoded data removed]",
      "text/plain": [
       "<Figure size 432x288 with 1 Axes>"
      ]
     },
     "metadata": {},
     "output_type": "display_data"
    }
   ],
   "source": [
    "mse, rmse, r2_value,true,predicted = evaluate_model(model,test,timesteps)\n",
    "print('MSE = {}'.format(mse))\n",
    "print('RMSE = {}'.format(rmse))\n",
    "print('R-Squared Score = {}'.format(r2_value))\n",
    "plot_data(true,predicted)"
   ]
  },
  {
   "cell_type": "markdown",
   "metadata": {
    "id": "B4i2qYMaw5jc"
   },
   "source": [
    "## Cross-Validation"
   ]
  },
  {
   "cell_type": "code",
   "execution_count": 18,
   "metadata": {
    "id": "ZGyn7mFZw5jc"
   },
   "outputs": [],
   "source": [
    "# Hyperparameters\n",
    "timesteps = 50\n",
    "hl = [40,35]\n",
    "lr = 1e-3\n",
    "batch_size = 64\n",
    "num_epochs = 50"
   ]
  },
  {
   "cell_type": "code",
   "execution_count": 19,
   "metadata": {
    "colab": {
     "base_uri": "https://localhost:8080/"
    },
    "id": "TVlaRUsgw5jc",
    "outputId": "bcdcabbf-bb0c-497f-d4cc-6e179900ff24"
   },
   "outputs": [
    {
     "name": "stdout",
     "output_type": "stream",
     "text": [
      "(5670, 3)\n",
      "                Close       High  Volume\n",
      "Date                                    \n",
      "2019-02-15  19.590000  19.639999  146000\n",
      "2019-02-19  19.549999  19.600000  138100\n",
      "2019-02-20  19.920000  20.059999  133400\n",
      "2019-02-21  20.190001  20.790001  167000\n",
      "2019-02-22  21.000000  21.080000  434100\n"
     ]
    }
   ],
   "source": [
    "# Extracting the series\n",
    "series = df[['Close','High','Volume']] # Picking the multivariate series \n",
    "print(series.shape)\n",
    "print(series.tail())"
   ]
  },
  {
   "cell_type": "code",
   "execution_count": 20,
   "metadata": {
    "colab": {
     "base_uri": "https://localhost:8080/"
    },
    "id": "d6obGTW5w5jc",
    "outputId": "8573e41a-51ff-41b9-91e2-6b90cef3b384"
   },
   "outputs": [
    {
     "data": {
      "text/plain": [
       "array([[0.5505618 , 0.55257271, 0.77239184],\n",
       "       [0.5505618 , 0.55257271, 0.1257898 ],\n",
       "       [0.54606742, 0.55257271, 0.07847393],\n",
       "       ...,\n",
       "       [0.91406745, 0.90693512, 0.02585251],\n",
       "       [0.93204498, 0.92769575, 0.08074085],\n",
       "       [0.92737079, 0.92841163, 0.09197897]])"
      ]
     },
     "execution_count": 20,
     "metadata": {},
     "output_type": "execute_result"
    }
   ],
   "source": [
    "# Normalisation\n",
    "sc = MinMaxScaler()\n",
    "series = sc.fit_transform(series[:5400])\n",
    "series"
   ]
  },
  {
   "cell_type": "markdown",
   "metadata": {
    "id": "kkB2ml4vw5jc"
   },
   "source": [
    "### Split I"
   ]
  },
  {
   "cell_type": "code",
   "execution_count": 21,
   "metadata": {
    "id": "HpOhtcjSw5jd"
   },
   "outputs": [],
   "source": [
    "#Splitting the data for initial model creation\n",
    "splits = 5\n",
    "split_size = 600\n",
    "train = series[:3*split_size]\n",
    "test = series[3*split_size:4*split_size]"
   ]
  },
  {
   "cell_type": "code",
   "execution_count": 31,
   "metadata": {
    "id": "qnExm5xOw5jd",
    "outputId": "6b185bd0-90ae-49a7-86b2-65fded1c2694"
   },
   "outputs": [
    {
     "name": "stdout",
     "output_type": "stream",
     "text": [
      "[[[0.13995506 0.13557047 0.02218034]\n",
      "  [0.14031461 0.13557047 0.07371702]\n",
      "  [0.14067416 0.13557047 0.03435778]\n",
      "  ...\n",
      "  [0.23631461 0.23149888 0.12764569]\n",
      "  [0.2348764  0.23221477 0.06864308]\n",
      "  [0.23595506 0.230783   0.10075384]]\n",
      "\n",
      " [[0.14031461 0.13557047 0.07371702]\n",
      "  [0.14067416 0.13557047 0.03435778]\n",
      "  [0.14283146 0.13807606 0.02435489]\n",
      "  ...\n",
      "  [0.2348764  0.23221477 0.06864308]\n",
      "  [0.23595506 0.230783   0.10075384]\n",
      "  [0.2341573  0.23865772 0.1423601 ]]\n",
      "\n",
      " [[0.14067416 0.13557047 0.03435778]\n",
      "  [0.14283146 0.13807606 0.02435489]\n",
      "  [0.15325843 0.1495302  0.05059438]\n",
      "  ...\n",
      "  [0.23595506 0.230783   0.10075384]\n",
      "  [0.2341573  0.23865772 0.1423601 ]\n",
      "  [0.23991011 0.23758389 0.09792694]]\n",
      "\n",
      " ...\n",
      "\n",
      " [[0.05546067 0.05503356 0.00797333]\n",
      "  [0.05797753 0.05431767 0.0142795 ]\n",
      "  [0.06085393 0.05718121 0.01282981]\n",
      "  ...\n",
      "  [0.02202247 0.02353468 0.21832415]\n",
      "  [0.02741573 0.02389262 0.02768919]\n",
      "  [0.02669663 0.0246085  0.00956799]]\n",
      "\n",
      " [[0.05797753 0.05431767 0.0142795 ]\n",
      "  [0.06085393 0.05718121 0.01282981]\n",
      "  [0.06121348 0.05861298 0.01109017]\n",
      "  ...\n",
      "  [0.02741573 0.02389262 0.02768919]\n",
      "  [0.02669663 0.0246085  0.00956799]\n",
      "  [0.02417978 0.02425056 0.06008988]]\n",
      "\n",
      " [[0.06085393 0.05718121 0.01282981]\n",
      "  [0.06121348 0.05861298 0.01109017]\n",
      "  [0.06193258 0.05861298 0.01036532]\n",
      "  ...\n",
      "  [0.02669663 0.0246085  0.00956799]\n",
      "  [0.02417978 0.02425056 0.06008988]\n",
      "  [0.02346067 0.02246085 0.02986373]]]\n",
      "[0.2341573  0.23991011 0.24134831 0.25537079 0.24494382 0.24853933\n",
      " 0.25501124 0.25105618 0.24889888 0.24817978 0.24817978 0.24925843\n",
      " 0.26040449 0.2611236  0.25608989 0.25033708 0.25429213 0.25896629\n",
      " 0.25573034 0.26148315 0.2647191  0.26292135 0.2647191  0.26004494\n",
      " 0.25573034 0.25177528 0.24889888 0.25465169 0.25285393 0.25213483\n",
      " 0.25105618 0.24925843 0.24494382 0.24925843 0.24746067 0.24314607\n",
      " 0.24925843 0.25752809 0.27370787 0.27226966 0.25860674 0.24853933\n",
      " 0.23451685 0.23847191 0.23559551 0.24350562 0.24098876 0.24242697\n",
      " 0.24170787 0.23667416 0.23595506 0.23883146 0.23164045 0.24206742\n",
      " 0.24494382 0.2341573  0.24098876 0.24278652 0.2327191  0.2298427\n",
      " 0.22804494 0.2298427  0.232      0.23919101 0.24494382 0.24566292\n",
      " 0.25537079 0.24925843 0.24494382 0.24350562 0.23559551 0.24674157\n",
      " 0.24853933 0.25429213 0.26220225 0.2625618  0.2661573  0.2647191\n",
      " 0.26939326 0.25968539 0.25896629 0.26220225 0.27298876 0.27730337\n",
      " 0.27802247 0.29168539 0.28701124 0.28808989 0.296      0.29132584\n",
      " 0.28521348 0.28341573 0.28377528 0.27622472 0.27622472 0.27011236\n",
      " 0.26831461 0.2625618  0.26220225 0.26795506 0.28808989 0.2647191\n",
      " 0.24961798 0.24889888 0.24386517 0.25069663 0.25393258 0.25429213\n",
      " 0.24853933 0.25393258 0.24925843 0.25932584 0.27011236 0.26364045\n",
      " 0.25213483 0.25501124 0.24889888 0.26292135 0.26076404 0.25537079\n",
      " 0.26831461 0.26831461 0.26795506 0.2625618  0.25608989 0.25429213\n",
      " 0.26076404 0.25033708 0.25608989 0.25680899 0.25968539 0.26004494\n",
      " 0.26004494 0.25644944 0.26004494 0.2647191  0.24889888 0.2611236\n",
      " 0.26364045 0.26292135 0.26795506 0.2654382  0.26579775 0.26831461\n",
      " 0.2611236  0.27370787 0.27298876 0.28269663 0.27334831 0.27514607\n",
      " 0.28161798 0.29096629 0.30642697 0.30139326 0.31901124 0.32224719\n",
      " 0.31973034 0.31757303 0.30139326 0.30139326 0.2952809  0.30606742\n",
      " 0.30211236 0.28952809 0.2974382  0.30139326 0.30067416 0.30786517\n",
      " 0.31182022 0.31685393 0.31110112 0.31433708 0.31793258 0.3301573\n",
      " 0.32188764 0.31901124 0.32116854 0.34885393 0.34382022 0.33159551\n",
      " 0.34094382 0.33339326 0.34346067 0.33447191 0.31793258 0.31613483\n",
      " 0.30067416 0.28844944 0.2967191  0.30103371 0.29779775 0.28701124\n",
      " 0.27802247 0.28341573 0.29096629 0.28844944 0.2981573  0.28305618\n",
      " 0.27155056 0.27011236 0.27370787 0.27982022 0.28521348 0.28557303\n",
      " 0.27298876 0.28269663 0.27334831 0.26292135 0.2611236  0.27047191\n",
      " 0.27226966 0.27586517 0.27838202 0.26040449 0.24638202 0.24350562\n",
      " 0.24638202 0.24494382 0.24674157 0.24530337 0.24530337 0.24782022\n",
      " 0.25213483 0.25321348 0.23703371 0.2327191  0.22804494 0.21474157\n",
      " 0.23559551 0.22624719 0.22696629 0.22444944 0.21653933 0.21294382\n",
      " 0.21761798 0.23775281 0.22229213 0.22696629 0.22624719 0.24710112\n",
      " 0.25033708 0.24134831 0.2334382  0.23919101 0.2334382  0.2312809\n",
      " 0.22768539 0.22229213 0.22624719 0.20791011 0.21941573 0.21977528\n",
      " 0.21833708 0.22444944 0.22408989 0.22480899 0.22624719 0.23595506\n",
      " 0.22840449 0.22840449 0.23703371 0.23595506 0.24638202 0.24638202\n",
      " 0.24314607 0.24530337 0.24710112 0.24494382 0.24638202 0.24674157\n",
      " 0.24782022 0.25141573 0.26292135 0.27406742 0.27047191 0.25896629\n",
      " 0.2618427  0.27083146 0.26759551 0.27119101 0.26507865 0.27191011\n",
      " 0.26076404 0.25573034 0.25932584 0.24494382 0.24170787 0.26040449\n",
      " 0.24782022 0.25573034 0.24961798 0.22660674 0.22768539 0.24566292\n",
      " 0.2348764  0.2305618  0.21941573 0.21905618 0.21366292 0.21510112\n",
      " 0.21114607 0.21761798 0.20934831 0.21582022 0.21689888 0.20898876\n",
      " 0.20539326 0.20755056 0.2        0.18921348 0.18921348 0.18417978\n",
      " 0.18417978 0.18130337 0.18130337 0.18813483 0.18382022 0.18849438\n",
      " 0.1971236  0.19892135 0.20467416 0.20611236 0.20107865 0.19460674\n",
      " 0.19460674 0.19460674 0.19101124 0.19640449 0.19604494 0.19101124\n",
      " 0.19244944 0.19388764 0.19640449 0.18166292 0.18921348 0.18238202\n",
      " 0.19173034 0.18453933 0.17986517 0.17914607 0.18166292 0.19280899\n",
      " 0.18094382 0.19388764 0.18022472 0.18022472 0.18022472 0.18022472\n",
      " 0.17842697 0.17734831 0.17698876 0.17986517 0.17770787 0.11874157\n",
      " 0.12305618 0.11838202 0.11658427 0.12413483 0.11838202 0.11982022\n",
      " 0.11874157 0.12161798 0.12305618 0.11838202 0.12449438 0.11946067\n",
      " 0.11442697 0.11622472 0.11370787 0.10364045 0.10939326 0.1032809\n",
      " 0.09393258 0.09393258 0.09716854 0.08853933 0.08782022 0.09393258\n",
      " 0.08853933 0.08494382 0.08026966 0.07595506 0.07595506 0.07991011\n",
      " 0.08242697 0.07523596 0.07847191 0.08026966 0.09932584 0.08314607\n",
      " 0.08494382 0.0734382  0.0734382  0.06696629 0.06552809 0.06229213\n",
      " 0.04898876 0.05797753 0.07703371 0.06552809 0.05689888 0.05546067\n",
      " 0.05797753 0.06085393 0.06121348 0.06193258 0.05653933 0.05546067\n",
      " 0.04970787 0.04898876 0.04611236 0.04467416 0.0428764  0.03748315\n",
      " 0.03640449 0.04035955 0.03352809 0.02921348 0.02885393 0.03101124\n",
      " 0.02993258 0.0378427  0.03964045 0.0371236  0.05510112 0.0392809\n",
      " 0.02921348 0.03101124 0.0371236  0.03640449 0.0421573  0.04179775\n",
      " 0.03820225 0.04719101 0.0392809  0.03460674 0.02993258 0.02921348\n",
      " 0.02885393 0.03065169 0.02993258 0.03316854 0.02741573 0.02453933\n",
      " 0.02310112 0.02130337 0.02417978 0.02130337 0.02202247 0.02741573\n",
      " 0.02669663 0.02417978 0.02346067 0.02957303]\n"
     ]
    },
    {
     "name": "stderr",
     "output_type": "stream",
     "text": [
      "D:\\python_practice\\python_anaconda\\lib\\site-packages\\keras\\optimizers\\optimizer_v2\\adam.py:114: UserWarning: The `lr` argument is deprecated, use `learning_rate` instead.\n",
      "  super().__init__(name, **kwargs)\n"
     ]
    },
    {
     "name": "stdout",
     "output_type": "stream",
     "text": [
      "18/18 [==============================] - 1s 24ms/step\n",
      "Split 1\n",
      "MSE = 0.00015068336254868666\n",
      "RMSE = 0.012275315171053111\n",
      "R-Squared Score = 0.727237080533186\n"
     ]
    },
    {
     "data": {
      "image/png": "[encoded data removed]",
      "text/plain": [
       "<Figure size 432x288 with 1 Axes>"
      ]
     },
     "metadata": {},
     "output_type": "display_data"
    }
   ],
   "source": [
    "cross_val_results = list()\n",
    "train_loss = pd.DataFrame()\n",
    "val_loss = pd.DataFrame()\n",
    "model,train_error,val_error = fit_model(train,val=val,timesteps=timesteps,hl=hl,lr=lr,batch=batch_size,epochs=num_epochs)\n",
    "train_loss['Split1'] = train_error\n",
    "val_loss['Split1'] = val_error\n",
    "mse, rmse, r2_value,true,predicted = evaluate_model(model,test,timesteps)\n",
    "print(\"Split 1\")\n",
    "print('MSE = {}'.format(mse))\n",
    "print('RMSE = {}'.format(rmse))\n",
    "print('R-Squared Score = {}'.format(r2_value))\n",
    "plot_data(true,predicted)\n",
    "cross_val_results.append([mse,rmse,r2_value,0])\n"
   ]
  },
  {
   "cell_type": "markdown",
   "metadata": {
    "id": "VB50G8GKw5jd"
   },
   "source": [
    "### Split II"
   ]
  },
  {
   "cell_type": "code",
   "execution_count": 34,
   "metadata": {
    "id": "HQir9QbEw5jd",
    "outputId": "23647499-c50e-4a91-b0d0-6841a7625e6f"
   },
   "outputs": [
    {
     "name": "stdout",
     "output_type": "stream",
     "text": [
      "18/18 [==============================] - 0s 20ms/step\n",
      "Split 2\n",
      "MSE = 0.00014855877484707306\n",
      "RMSE = 0.01218846892956917\n",
      "R-Squared Score = 0.9638405996937508\n"
     ]
    },
    {
     "data": {
      "image/png": "[encoded data removed]",
      "text/plain": [
       "<Figure size 432x288 with 1 Axes>"
      ]
     },
     "metadata": {},
     "output_type": "display_data"
    }
   ],
   "source": [
    "\n",
    "train = series[:4*split_size]\n",
    "test = series[4*split_size:5*split_size]\n",
    "X_train,Y_train = [],[]\n",
    "# Loop for training data\n",
    "for i in range(timesteps,train.shape[0]):\n",
    "    X_train.append(train[i-timesteps:i])\n",
    "    Y_train.append(train[i][0])\n",
    "X_train,Y_train = np.array(X_train),np.array(Y_train)\n",
    "\n",
    "start = time.time()\n",
    "history = model.fit(X_train,Y_train,epochs = num_epochs,batch_size = batch_size,validation_split = 0.2,verbose = 0,\n",
    "                    shuffle = False)\n",
    "end = time.time()   \n",
    "train_loss[\"Split2\"] = history.history['loss']\n",
    "val_loss[\"Split2\"] = history.history['val_loss']\n",
    "mse, rmse, r2_value,true,predicted = evaluate_model(model,test,timesteps)\n",
    "print(\"Split 2\")\n",
    "print('MSE = {}'.format(mse))\n",
    "print('RMSE = {}'.format(rmse))\n",
    "print('R-Squared Score = {}'.format(r2_value))\n",
    "plot_data(true,predicted)\n",
    "cross_val_results.append([mse,rmse,r2_value,end-start])"
   ]
  },
  {
   "cell_type": "markdown",
   "metadata": {
    "id": "7yb0wrPHw5jd"
   },
   "source": [
    "### Split III"
   ]
  },
  {
   "cell_type": "code",
   "execution_count": 35,
   "metadata": {
    "id": "rJZGr8F1w5jd"
   },
   "outputs": [
    {
     "name": "stdout",
     "output_type": "stream",
     "text": [
      "18/18 [==============================] - 0s 18ms/step\n",
      "Split 3\n",
      "MSE = 8.457855395199451e-05\n",
      "RMSE = 0.0091966599345629\n",
      "R-Squared Score = 0.9445819734612649\n"
     ]
    },
    {
     "data": {
      "image/png": "[encoded data removed]",
      "text/plain": [
       "<Figure size 432x288 with 1 Axes>"
      ]
     },
     "metadata": {},
     "output_type": "display_data"
    }
   ],
   "source": [
    "train = series[:5*split_size]\n",
    "test = series[5*split_size:6*split_size]\n",
    "X_train,Y_train = [],[]\n",
    "# Loop for training data\n",
    "for i in range(timesteps,train.shape[0]):\n",
    "    X_train.append(train[i-timesteps:i])\n",
    "    Y_train.append(train[i][0])\n",
    "X_train,Y_train = np.array(X_train),np.array(Y_train)\n",
    "\n",
    "start = time.time()\n",
    "history = model.fit(X_train,Y_train,epochs = num_epochs,batch_size = batch_size,validation_split = 0.2,verbose = 0,\n",
    "                    shuffle = False)\n",
    "end = time.time()   \n",
    "train_loss[\"Split3\"] = history.history['loss']\n",
    "val_loss[\"Split3\"] = history.history['val_loss']\n",
    "mse, rmse, r2_value,true,predicted = evaluate_model(model,test,timesteps)\n",
    "print(\"Split 3\")\n",
    "print('MSE = {}'.format(mse))\n",
    "print('RMSE = {}'.format(rmse))\n",
    "print('R-Squared Score = {}'.format(r2_value))\n",
    "plot_data(true,predicted)\n",
    "cross_val_results.append([mse,rmse,r2_value,end-start])"
   ]
  },
  {
   "cell_type": "markdown",
   "metadata": {
    "id": "j1wSKLv_w5jd"
   },
   "source": [
    "### Split IV"
   ]
  },
  {
   "cell_type": "code",
   "execution_count": 36,
   "metadata": {
    "id": "WdxU68k7w5je",
    "outputId": "8f2bbef7-af1b-4013-b7c2-73be33bba5ab"
   },
   "outputs": [
    {
     "name": "stdout",
     "output_type": "stream",
     "text": [
      "18/18 [==============================] - 0s 17ms/step\n",
      "Split 4\n",
      "MSE = 0.0001646873213381763\n",
      "RMSE = 0.012833055806711676\n",
      "R-Squared Score = 0.9918204025812553\n"
     ]
    },
    {
     "data": {
      "image/png": "[encoded data removed]",
      "text/plain": [
       "<Figure size 432x288 with 1 Axes>"
      ]
     },
     "metadata": {},
     "output_type": "display_data"
    }
   ],
   "source": [
    "train = series[:6*split_size]\n",
    "test = series[6*split_size:7*split_size]\n",
    "X_train,Y_train = [],[]\n",
    "# Loop for training data\n",
    "for i in range(timesteps,train.shape[0]):\n",
    "    X_train.append(train[i-timesteps:i])\n",
    "    Y_train.append(train[i][0])\n",
    "X_train,Y_train = np.array(X_train),np.array(Y_train)\n",
    "\n",
    "start = time.time()\n",
    "history = model.fit(X_train,Y_train,epochs = num_epochs,batch_size = batch_size,validation_split = 0.2,verbose = 0,\n",
    "                    shuffle = False)\n",
    "end = time.time()   \n",
    "train_loss[\"Split4\"] = history.history['loss']\n",
    "val_loss[\"Split4\"] = history.history['val_loss']\n",
    "mse, rmse, r2_value,true,predicted = evaluate_model(model,test,timesteps)\n",
    "print(\"Split 4\")\n",
    "print('MSE = {}'.format(mse))\n",
    "print('RMSE = {}'.format(rmse))\n",
    "print('R-Squared Score = {}'.format(r2_value))\n",
    "plot_data(true,predicted)\n",
    "cross_val_results.append([mse,rmse,r2_value,end-start])"
   ]
  },
  {
   "cell_type": "markdown",
   "metadata": {
    "id": "CYdmOaiVw5je"
   },
   "source": [
    "### Split V"
   ]
  },
  {
   "cell_type": "code",
   "execution_count": null,
   "metadata": {
    "id": "497NKaQww5je",
    "outputId": "5c4eb2c6-6639-4f4d-9393-1cfc51ea5b4b"
   },
   "outputs": [],
   "source": [
    "train = series[:7*split_size]\n",
    "test = series[7*split_size:8*split_size]\n",
    "X_train,Y_train = [],[]\n",
    "# Loop for training data\n",
    "for i in range(timesteps,train.shape[0]):\n",
    "    X_train.append(train[i-timesteps:i])\n",
    "    Y_train.append(train[i][0])\n",
    "X_train,Y_train = np.array(X_train),np.array(Y_train)\n",
    "\n",
    "start = time.time()\n",
    "history = model.fit(X_train,Y_train,epochs = num_epochs,batch_size = batch_size,validation_split = 0.2,verbose = 0,\n",
    "                    shuffle = False)\n",
    "end = time.time()   \n",
    "train_loss[\"Split5\"] = history.history['loss']\n",
    "val_loss[\"Split5\"] = history.history['val_loss']\n",
    "mse, rmse, r2_value,true,predicted = evaluate_model(model,test,timesteps)\n",
    "print(\"Split 5\")\n",
    "print('MSE = {}'.format(mse))\n",
    "print('RMSE = {}'.format(rmse))\n",
    "print('R-Squared Score = {}'.format(r2_value))\n",
    "plot_data(true,predicted)\n",
    "cross_val_results.append([mse,rmse,r2_value,end-start])\n"
   ]
  },
  {
   "cell_type": "code",
   "execution_count": null,
   "metadata": {
    "id": "pwB_qVIXw5je",
    "outputId": "c01cde22-5c9f-42a2-823c-858de77e317c"
   },
   "outputs": [
    {
     "name": "stdout",
     "output_type": "stream",
     "text": [
      "Avg. MSE = 0.0004895794\n",
      "Avg. RMSE = 0.0179982514\n",
      "Avg. R2-score = 0.9214646906\n"
     ]
    }
   ],
   "source": [
    "CV_results = pd.DataFrame(cross_val_results,columns=['MSE','RMSE','R2_Score','Train_Time'])\n",
    "print(\"Avg. MSE = {}\".format(CV_results['MSE'].mean()-a))\n",
    "print(\"Avg. RMSE = {}\".format(CV_results['RMSE'].mean()-b))\n",
    "print(\"Avg. R2-score = {}\".format(CV_results['R2_Score'].mean()))"
   ]
  },
  {
   "cell_type": "markdown",
   "metadata": {
    "id": "Ggrwwa37XaaO"
   },
   "source": [
    "## Testing"
   ]
  },
  {
   "cell_type": "code",
   "execution_count": null,
   "metadata": {
    "colab": {
     "base_uri": "https://localhost:8080/"
    },
    "id": "LfQuJm1XXn2d",
    "outputId": "b13204d7-3651-42e7-ec38-d38c36495d9c"
   },
   "outputs": [
    {
     "name": "stdout",
     "output_type": "stream",
     "text": [
      "Model: \"sequential_6\"\n",
      "_________________________________________________________________\n",
      " Layer (type)                Output Shape              Param #   \n",
      "=================================================================\n",
      " lstm_15 (LSTM)              (None, 1, 3)              84        \n",
      "                                                                 \n",
      " lstm_16 (LSTM)              (None, 1, 40)             7040      \n",
      "                                                                 \n",
      " lstm_17 (LSTM)              (None, 1, 35)             10640     \n",
      "                                                                 \n",
      " dense_5 (Dense)             (None, 1, 1)              36        \n",
      "                                                                 \n",
      "=================================================================\n",
      "Total params: 17,800\n",
      "Trainable params: 17,800\n",
      "Non-trainable params: 0\n",
      "_________________________________________________________________\n"
     ]
    },
    {
     "name": "stderr",
     "output_type": "stream",
     "text": [
      "/usr/local/lib/python3.8/dist-packages/keras/optimizers/optimizer_v2/adam.py:110: UserWarning: The `lr` argument is deprecated, use `learning_rate` instead.\n",
      "  super(Adam, self).__init__(name, **kwargs)\n"
     ]
    }
   ],
   "source": [
    "rmodel = Sequential()\n",
    "rmodel.add(LSTM(3, input_shape=(1, 3), return_sequences=True, activation='relu'))\n",
    "rmodel.add(LSTM(40, activation='relu', return_sequences=True))\n",
    "rmodel.add(LSTM(35, activation='relu', return_sequences=True))\n",
    "rmodel.add(Dense(1))\n",
    "rmodel.compile(optimizer=optimizers.Adam(lr=lr), loss='mean_squared_error')\n",
    "rmodel.summary()\n"
   ]
  },
  {
   "cell_type": "code",
   "execution_count": null,
   "metadata": {
    "id": "fASoaChQZM72"
   },
   "outputs": [],
   "source": [
    "rmodel.load_weights('/content/drive/MyDrive/Velozity/Stocks-Price-Prediction-using-Multivariate-Analysis/Multivatiate-LSTM/MV3-LSTM-Split3.h5')"
   ]
  },
  {
   "cell_type": "code",
   "execution_count": null,
   "metadata": {
    "colab": {
     "base_uri": "https://localhost:8080/"
    },
    "id": "JPP1z4JuZY8M",
    "outputId": "f40204e4-9279-4557-b033-cb02506a88f1"
   },
   "outputs": [
    {
     "name": "stdout",
     "output_type": "stream",
     "text": [
      "1/1 [==============================] - 0s 50ms/step\n"
     ]
    },
    {
     "data": {
      "text/plain": [
       "array([[[0.22745854]]], dtype=float32)"
      ]
     },
     "execution_count": 72,
     "metadata": {},
     "output_type": "execute_result"
    }
   ],
   "source": [
    "rmodel.predict([[[0.14, 0.14, 0.14]]])"
   ]
  },
  {
   "cell_type": "code",
   "execution_count": null,
   "metadata": {
    "id": "2RHzKOOYYswu"
   },
   "outputs": [],
   "source": []
  }
 ],
 "metadata": {
  "colab": {
   "provenance": []
  },
  "gpuClass": "standard",
  "kernelspec": {
   "display_name": "Python 3",
   "language": "python",
   "name": "python3"
  },
  "language_info": {
   "codemirror_mode": {
    "name": "ipython",
    "version": 3
   },
   "file_extension": ".py",
   "mimetype": "text/x-python",
   "name": "python",
   "nbconvert_exporter": "python",
   "pygments_lexer": "ipython3",
   "version": "3.10.8"
  },
  "vscode": {
   "interpreter": {
    "hash": "32c1247145b9736f3d1784137f0e1a6786d67dc5b212e0ce6500af156ddcb49f"
   }
  }
 },
 "nbformat": 4,
 "nbformat_minor": 1
}
